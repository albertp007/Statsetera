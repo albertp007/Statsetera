{
 "cells": [
  {
   "cell_type": "code",
   "execution_count": 9,
   "metadata": {
    "dotnet_interactive": {
     "language": "csharp"
    },
    "polyglot_notebook": {
     "kernelName": "csharp"
    }
   },
   "outputs": [
    {
     "data": {
      "text/html": [
       "<div><div></div><div></div><div><strong>Installed Packages</strong><ul><li><span>MathNet.Numerics, 5.0.0</span></li><li><span>ScottPlot, 4.1.60</span></li></ul></div></div>"
      ]
     },
     "metadata": {},
     "output_type": "display_data"
    },
    {
     "ename": "Error",
     "evalue": "System.InvalidOperationException: xs and ys must all have same length\r\n   at ScottPlot.Validate.AssertEqualLength[T1,T2](String label, T1[] a, T2[] b)\r\n   at ScottPlot.Plottable.ScatterPlot.ValidateData(Boolean deep)\r\n   at ScottPlot.Plottable.ScatterPlot.GetAxisLimitsThrowOnNaN()\r\n   at ScottPlot.Plottable.ScatterPlot.GetAxisLimits()\r\n   at ScottPlot.Settings.<>c.<AxisAutoX>b__64_2(IPlottable x)\r\n   at System.Linq.Enumerable.WhereSelectEnumerableIterator`2.ToArray()\r\n   at System.Linq.Enumerable.ToArray[TSource](IEnumerable`1 source)\r\n   at ScottPlot.Settings.AxisAutoX(Int32 xAxisIndex, Nullable`1 margin)\r\n   at ScottPlot.Settings.AxisAutoUnsetAxes(Nullable`1 horizontalMargin, Nullable`1 verticalMargin)\r\n   at ScottPlot.Plot.Render(Bitmap bmp, Boolean lowQuality, Double scale)\r\n   at ScottPlot.Plot.Render(Int32 width, Int32 height, Boolean lowQuality, Double scale)\r\n   at ScottPlot.Plot.GetBitmap(Boolean lowQuality, Double scale)\r\n   at ScottPlot.Plot.GetImageBytes(Boolean lowQuality, Double scale)\r\n   at ScottPlot.Plot.GetImageBase64(Boolean lowQuality, Double scale)\r\n   at ScottPlot.Plot.GetImageHTML(Boolean lowQuality, Double scale)\r\n   at Submission#10.<>c.<<Initialize>>b__0_0(Object plt, TextWriter writer)\r\n   at Microsoft.DotNet.Interactive.Formatting.Formatter.<>c__DisplayClass47_0.<Register>b__0(Object value, FormatContext context) in D:\\a\\_work\\1\\s\\src\\Microsoft.DotNet.Interactive.Formatting\\Formatter.cs:line 481\r\n   at Microsoft.DotNet.Interactive.Formatting.Formatter.<>c__DisplayClass53_0.<TryInferPreferredFormatter>b__4(Object value, FormatContext context) in D:\\a\\_work\\1\\s\\src\\Microsoft.DotNet.Interactive.Formatting\\Formatter.cs:line 700\r\n   at Microsoft.DotNet.Interactive.Formatting.Formatter`1.FormatTo(T obj, FormatContext context, String mimeType) in D:\\a\\_work\\1\\s\\src\\Microsoft.DotNet.Interactive.Formatting\\Formatter{T}.cs:line 86\r\n   at Microsoft.DotNet.Interactive.Formatting.Formatter.ToDisplayString(Object obj, String mimeType) in D:\\a\\_work\\1\\s\\src\\Microsoft.DotNet.Interactive.Formatting\\Formatter.cs:line 269\r\n   at Microsoft.DotNet.Interactive.FormattedValue.<>c__DisplayClass7_0.<FromObject>b__0(String mimeType) in D:\\a\\_work\\1\\s\\src\\Microsoft.DotNet.Interactive\\FormattedValue.cs:line 37\r\n   at System.Linq.Enumerable.SelectArrayIterator`2.ToArray()\r\n   at Microsoft.DotNet.Interactive.FormattedValue.FromObject(Object value, String[] mimeTypes) in D:\\a\\_work\\1\\s\\src\\Microsoft.DotNet.Interactive\\FormattedValue.cs:line 36\r\n   at Microsoft.DotNet.Interactive.CSharp.CSharpKernel.Microsoft.DotNet.Interactive.IKernelCommandHandler<Microsoft.DotNet.Interactive.Commands.SubmitCode>.HandleAsync(SubmitCode submitCode, KernelInvocationContext context) in D:\\a\\_work\\1\\s\\src\\Microsoft.DotNet.Interactive.CSharp\\CSharpKernel.cs:line 351\r\n   at Microsoft.DotNet.Interactive.Kernel.HandleAsync(KernelCommand command, KernelInvocationContext context) in D:\\a\\_work\\1\\s\\src\\Microsoft.DotNet.Interactive\\Kernel.cs:line 326\r\n   at Microsoft.DotNet.Interactive.KernelCommandPipeline.<BuildPipeline>b__6_0(KernelCommand command, KernelInvocationContext context, KernelPipelineContinuation _) in D:\\a\\_work\\1\\s\\src\\Microsoft.DotNet.Interactive\\KernelCommandPipeline.cs:line 60\r\n   at Microsoft.DotNet.Interactive.KernelCommandPipeline.SendAsync(KernelCommand command, KernelInvocationContext context) in D:\\a\\_work\\1\\s\\src\\Microsoft.DotNet.Interactive\\KernelCommandPipeline.cs:line 51",
     "output_type": "error",
     "traceback": [
      "System.InvalidOperationException: xs and ys must all have same length\r\n",
      "   at ScottPlot.Validate.AssertEqualLength[T1,T2](String label, T1[] a, T2[] b)\r\n",
      "   at ScottPlot.Plottable.ScatterPlot.ValidateData(Boolean deep)\r\n",
      "   at ScottPlot.Plottable.ScatterPlot.GetAxisLimitsThrowOnNaN()\r\n",
      "   at ScottPlot.Plottable.ScatterPlot.GetAxisLimits()\r\n",
      "   at ScottPlot.Settings.<>c.<AxisAutoX>b__64_2(IPlottable x)\r\n",
      "   at System.Linq.Enumerable.WhereSelectEnumerableIterator`2.ToArray()\r\n",
      "   at System.Linq.Enumerable.ToArray[TSource](IEnumerable`1 source)\r\n",
      "   at ScottPlot.Settings.AxisAutoX(Int32 xAxisIndex, Nullable`1 margin)\r\n",
      "   at ScottPlot.Settings.AxisAutoUnsetAxes(Nullable`1 horizontalMargin, Nullable`1 verticalMargin)\r\n",
      "   at ScottPlot.Plot.Render(Bitmap bmp, Boolean lowQuality, Double scale)\r\n",
      "   at ScottPlot.Plot.Render(Int32 width, Int32 height, Boolean lowQuality, Double scale)\r\n",
      "   at ScottPlot.Plot.GetBitmap(Boolean lowQuality, Double scale)\r\n",
      "   at ScottPlot.Plot.GetImageBytes(Boolean lowQuality, Double scale)\r\n",
      "   at ScottPlot.Plot.GetImageBase64(Boolean lowQuality, Double scale)\r\n",
      "   at ScottPlot.Plot.GetImageHTML(Boolean lowQuality, Double scale)\r\n",
      "   at Submission#10.<>c.<<Initialize>>b__0_0(Object plt, TextWriter writer)\r\n",
      "   at Microsoft.DotNet.Interactive.Formatting.Formatter.<>c__DisplayClass47_0.<Register>b__0(Object value, FormatContext context) in D:\\a\\_work\\1\\s\\src\\Microsoft.DotNet.Interactive.Formatting\\Formatter.cs:line 481\r\n",
      "   at Microsoft.DotNet.Interactive.Formatting.Formatter.<>c__DisplayClass53_0.<TryInferPreferredFormatter>b__4(Object value, FormatContext context) in D:\\a\\_work\\1\\s\\src\\Microsoft.DotNet.Interactive.Formatting\\Formatter.cs:line 700\r\n",
      "   at Microsoft.DotNet.Interactive.Formatting.Formatter`1.FormatTo(T obj, FormatContext context, String mimeType) in D:\\a\\_work\\1\\s\\src\\Microsoft.DotNet.Interactive.Formatting\\Formatter{T}.cs:line 86\r\n",
      "   at Microsoft.DotNet.Interactive.Formatting.Formatter.ToDisplayString(Object obj, String mimeType) in D:\\a\\_work\\1\\s\\src\\Microsoft.DotNet.Interactive.Formatting\\Formatter.cs:line 269\r\n",
      "   at Microsoft.DotNet.Interactive.FormattedValue.<>c__DisplayClass7_0.<FromObject>b__0(String mimeType) in D:\\a\\_work\\1\\s\\src\\Microsoft.DotNet.Interactive\\FormattedValue.cs:line 37\r\n",
      "   at System.Linq.Enumerable.SelectArrayIterator`2.ToArray()\r\n",
      "   at Microsoft.DotNet.Interactive.FormattedValue.FromObject(Object value, String[] mimeTypes) in D:\\a\\_work\\1\\s\\src\\Microsoft.DotNet.Interactive\\FormattedValue.cs:line 36\r\n",
      "   at Microsoft.DotNet.Interactive.CSharp.CSharpKernel.Microsoft.DotNet.Interactive.IKernelCommandHandler<Microsoft.DotNet.Interactive.Commands.SubmitCode>.HandleAsync(SubmitCode submitCode, KernelInvocationContext context) in D:\\a\\_work\\1\\s\\src\\Microsoft.DotNet.Interactive.CSharp\\CSharpKernel.cs:line 351\r\n",
      "   at Microsoft.DotNet.Interactive.Kernel.HandleAsync(KernelCommand command, KernelInvocationContext context) in D:\\a\\_work\\1\\s\\src\\Microsoft.DotNet.Interactive\\Kernel.cs:line 326\r\n",
      "   at Microsoft.DotNet.Interactive.KernelCommandPipeline.<BuildPipeline>b__6_0(KernelCommand command, KernelInvocationContext context, KernelPipelineContinuation _) in D:\\a\\_work\\1\\s\\src\\Microsoft.DotNet.Interactive\\KernelCommandPipeline.cs:line 60\r\n",
      "   at Microsoft.DotNet.Interactive.KernelCommandPipeline.SendAsync(KernelCommand command, KernelInvocationContext context) in D:\\a\\_work\\1\\s\\src\\Microsoft.DotNet.Interactive\\KernelCommandPipeline.cs:line 51"
     ]
    }
   ],
   "source": [
    "#r \"..\\Statsetera\\bin\\Debug\\net6.0\\Statsetera.dll\"\n",
    "#r \"nuget:MathNet.Numerics\"\n",
    "// Install the ScottPlot NuGet package\n",
    "#r \"nuget:ScottPlot\"\n",
    "using MathNet.Numerics.Random;\n",
    "using Statsetera;\n",
    "\n",
    "// Setup a custom formatter to display plots as images\n",
    "using Microsoft.DotNet.Interactive.Formatting;\n",
    "Formatter.Register(typeof(ScottPlot.Plot), (plt, writer) => \n",
    "    writer.Write(((ScottPlot.Plot)plt).GetImageHTML()), HtmlFormatter.MimeType);\n",
    "\n",
    "var x = Enumerable.Range(0, 10000).Select(Convert.ToDouble);\n",
    "var y = MonteCarlo.RandomWalk().Select(Convert.ToDouble).Take(10000);\n",
    "var plt = new ScottPlot.Plot(800, 600);\n",
    "plt.AddScatter(x.ToArray(), y.ToArray());\n",
    "plt\n",
    "\n",
    "\n"
   ]
  },
  {
   "cell_type": "code",
   "execution_count": 10,
   "metadata": {
    "dotnet_interactive": {
     "language": "csharp"
    },
    "polyglot_notebook": {
     "kernelName": "csharp"
    }
   },
   "outputs": [],
   "source": []
  }
 ],
 "metadata": {
  "kernelspec": {
   "display_name": ".NET (C#)",
   "language": "C#",
   "name": ".net-csharp"
  },
  "polyglot_notebook": {
   "kernelInfo": {
    "defaultKernelName": "csharp",
    "items": [
     {
      "aliases": [],
      "name": "csharp"
     }
    ]
   }
  }
 },
 "nbformat": 4,
 "nbformat_minor": 2
}
